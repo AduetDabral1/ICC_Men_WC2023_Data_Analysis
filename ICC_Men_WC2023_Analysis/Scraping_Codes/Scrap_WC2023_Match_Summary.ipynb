{
 "cells": [
  {
   "cell_type": "code",
   "execution_count": 147,
   "id": "04a87ea7",
   "metadata": {},
   "outputs": [],
   "source": [
    "import requests\n",
    "from bs4 import BeautifulSoup\n",
    "import pandas as pd\n",
    "import os"
   ]
  },
  {
   "cell_type": "code",
   "execution_count": 2,
   "id": "d0975e82",
   "metadata": {},
   "outputs": [],
   "source": [
    "match_results = \"https://www.espncricinfo.com/records/tournament/team-match-results/icc-cricket-world-cup-2023-24-15338\""
   ]
  },
  {
   "cell_type": "code",
   "execution_count": 136,
   "id": "e0106058",
   "metadata": {},
   "outputs": [],
   "source": [
    "response = requests.get(match_results)\n",
    "if response.status_code != 200:\n",
    "    raise Exception('Failed to load page {}'.format(match_results))\n",
    "doc = BeautifulSoup(response.text, 'html.parser')\n",
    "\n",
    "data =[]\n",
    "table = doc.tbody\n",
    "\n",
    "for row in table.find_all('tr'):    \n",
    "    columns = row.find_all('td')\n",
    "    if(columns != []):    \n",
    "        team1 = columns[0].span.text.strip()\n",
    "        team2 = columns[1].span.text.strip()\n",
    "        winner = columns[2].span.text.strip()\n",
    "        winMargin = columns[3].span.text.strip()\n",
    "        ground = columns[4].a.span.text.strip()\n",
    "        matchDate = columns[5].span.text.strip()\n",
    "        scoreCard = columns[6].a.span.text.strip()\n",
    "        data.append([team1, team2, winner, winMargin, ground, matchDate, scoreCard])        "
   ]
  },
  {
   "cell_type": "code",
   "execution_count": 142,
   "id": "03d5acc1",
   "metadata": {},
   "outputs": [],
   "source": [
    "data = data[::-1]"
   ]
  },
  {
   "cell_type": "code",
   "execution_count": 143,
   "id": "393cf73f",
   "metadata": {},
   "outputs": [],
   "source": [
    "matchSummary = pd.DataFrame(data, columns = ['team1', 'team2', 'winner', 'winMargin', 'ground', 'matchDate', 'matchId'])"
   ]
  },
  {
   "cell_type": "code",
   "execution_count": 145,
   "id": "61be45fe",
   "metadata": {},
   "outputs": [
    {
     "data": {
      "text/html": [
       "<div>\n",
       "<style scoped>\n",
       "    .dataframe tbody tr th:only-of-type {\n",
       "        vertical-align: middle;\n",
       "    }\n",
       "\n",
       "    .dataframe tbody tr th {\n",
       "        vertical-align: top;\n",
       "    }\n",
       "\n",
       "    .dataframe thead th {\n",
       "        text-align: right;\n",
       "    }\n",
       "</style>\n",
       "<table border=\"1\" class=\"dataframe\">\n",
       "  <thead>\n",
       "    <tr style=\"text-align: right;\">\n",
       "      <th></th>\n",
       "      <th>team1</th>\n",
       "      <th>team2</th>\n",
       "      <th>winner</th>\n",
       "      <th>winMargin</th>\n",
       "      <th>ground</th>\n",
       "      <th>matchDate</th>\n",
       "      <th>matchId</th>\n",
       "    </tr>\n",
       "  </thead>\n",
       "  <tbody>\n",
       "    <tr>\n",
       "      <th>0</th>\n",
       "      <td>England</td>\n",
       "      <td>New Zealand</td>\n",
       "      <td>New Zealand</td>\n",
       "      <td>9 wickets</td>\n",
       "      <td>Ahmedabad</td>\n",
       "      <td>Oct 5, 2023</td>\n",
       "      <td>ODI # 4658</td>\n",
       "    </tr>\n",
       "    <tr>\n",
       "      <th>1</th>\n",
       "      <td>Netherlands</td>\n",
       "      <td>Pakistan</td>\n",
       "      <td>Pakistan</td>\n",
       "      <td>81 runs</td>\n",
       "      <td>Hyderabad</td>\n",
       "      <td>Oct 6, 2023</td>\n",
       "      <td>ODI # 4659</td>\n",
       "    </tr>\n",
       "    <tr>\n",
       "      <th>2</th>\n",
       "      <td>Afghanistan</td>\n",
       "      <td>Bangladesh</td>\n",
       "      <td>Bangladesh</td>\n",
       "      <td>6 wickets</td>\n",
       "      <td>Dharamsala</td>\n",
       "      <td>Oct 7, 2023</td>\n",
       "      <td>ODI # 4660</td>\n",
       "    </tr>\n",
       "    <tr>\n",
       "      <th>3</th>\n",
       "      <td>South Africa</td>\n",
       "      <td>Sri Lanka</td>\n",
       "      <td>South Africa</td>\n",
       "      <td>102 runs</td>\n",
       "      <td>Delhi</td>\n",
       "      <td>Oct 7, 2023</td>\n",
       "      <td>ODI # 4661</td>\n",
       "    </tr>\n",
       "    <tr>\n",
       "      <th>4</th>\n",
       "      <td>India</td>\n",
       "      <td>Australia</td>\n",
       "      <td>India</td>\n",
       "      <td>6 wickets</td>\n",
       "      <td>Chennai</td>\n",
       "      <td>Oct 8, 2023</td>\n",
       "      <td>ODI # 4662</td>\n",
       "    </tr>\n",
       "  </tbody>\n",
       "</table>\n",
       "</div>"
      ],
      "text/plain": [
       "          team1        team2        winner  winMargin      ground  \\\n",
       "0       England  New Zealand   New Zealand  9 wickets   Ahmedabad   \n",
       "1   Netherlands     Pakistan      Pakistan    81 runs   Hyderabad   \n",
       "2   Afghanistan   Bangladesh    Bangladesh  6 wickets  Dharamsala   \n",
       "3  South Africa    Sri Lanka  South Africa   102 runs       Delhi   \n",
       "4         India    Australia         India  6 wickets     Chennai   \n",
       "\n",
       "     matchDate     matchId  \n",
       "0  Oct 5, 2023  ODI # 4658  \n",
       "1  Oct 6, 2023  ODI # 4659  \n",
       "2  Oct 7, 2023  ODI # 4660  \n",
       "3  Oct 7, 2023  ODI # 4661  \n",
       "4  Oct 8, 2023  ODI # 4662  "
      ]
     },
     "execution_count": 145,
     "metadata": {},
     "output_type": "execute_result"
    }
   ],
   "source": [
    "matchSummary.head()"
   ]
  },
  {
   "cell_type": "code",
   "execution_count": 150,
   "id": "d500cae7",
   "metadata": {},
   "outputs": [],
   "source": [
    "os.makedirs('./data', exist_ok=True)\n",
    "matchSummary.to_csv('./data/matchSummary.csv', index=None)"
   ]
  }
 ],
 "metadata": {
  "kernelspec": {
   "display_name": "Python 3 (ipykernel)",
   "language": "python",
   "name": "python3"
  },
  "language_info": {
   "codemirror_mode": {
    "name": "ipython",
    "version": 3
   },
   "file_extension": ".py",
   "mimetype": "text/x-python",
   "name": "python",
   "nbconvert_exporter": "python",
   "pygments_lexer": "ipython3",
   "version": "3.9.18"
  }
 },
 "nbformat": 4,
 "nbformat_minor": 5
}
